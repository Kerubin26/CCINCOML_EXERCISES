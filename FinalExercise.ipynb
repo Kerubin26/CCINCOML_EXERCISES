{
  "cells": [
    {
      "cell_type": "markdown",
      "metadata": {
        "colab_type": "text",
        "id": "view-in-github"
      },
      "source": [
        "<a href=\"https://colab.research.google.com/github/robitussin/CCINCOML_EXERCISES/blob/main/FinalExercise.ipynb\" target=\"_parent\"><img src=\"https://colab.research.google.com/assets/colab-badge.svg\" alt=\"Open In Colab\"/></a>"
      ]
    },
    {
      "cell_type": "markdown",
      "metadata": {
        "id": "1lyup4WJ0U88"
      },
      "source": [
        "# Final Exercise 🌹\n",
        "\n",
        "Please follow the instructions!\n",
        "\n",
        "<img src=\"https://i.pinimg.com/originals/80/db/e7/80dbe7a37ca3ea65ecac8dace1b599cc.gif\"/>"
      ]
    },
    {
      "cell_type": "markdown",
      "metadata": {
        "id": "TNpD9hmk4_N-"
      },
      "source": [
        "1. Create a list called `myname` that contains the characters of your first name"
      ]
    },
    {
      "cell_type": "code",
      "execution_count": 4,
      "metadata": {
        "id": "bpXg-iQt4-sQ"
      },
      "outputs": [
        {
          "name": "stdout",
          "output_type": "stream",
          "text": [
            "['C', 'h', 'e', 'r', 'v', 'i', 'n']\n"
          ]
        }
      ],
      "source": [
        "myname = list(\"Chervin\")\n",
        "print(myname)"
      ]
    },
    {
      "cell_type": "markdown",
      "metadata": {
        "id": "iorlqXkq5FgY"
      },
      "source": [
        "2. Create a list called `mynumber` that contains all the numbers of your student number"
      ]
    },
    {
      "cell_type": "code",
      "execution_count": 7,
      "metadata": {
        "id": "JciPeaYr49B7"
      },
      "outputs": [
        {
          "name": "stdout",
          "output_type": "stream",
          "text": [
            "[2, 0, 2, 2, 1, 0, 5, 3, 6, 2]\n"
          ]
        }
      ],
      "source": [
        "mynumber = [2,0,2,2,1,0,5,3,6,2]\n",
        "print(mynumber)# put your answer here"
      ]
    },
    {
      "cell_type": "markdown",
      "metadata": {
        "id": "yQ2wZKD-0X7_"
      },
      "source": [
        "3. Write a python function named `geteven()` that will:\n",
        "\n",
        "- Accept a list of your student number\n",
        "- Return a list with only even numbers\n",
        "\n",
        "-------------------------------------\n",
        "\n",
        "Example:\n",
        "\n",
        "mynumber = [2,0,2,3,1,2,3,4,5,6]\n",
        "\n",
        "geteven(mynumber)\n",
        "\n",
        "Output should be:\n",
        "\n",
        "[2,0,2,2,4,6]"
      ]
    },
    {
      "cell_type": "code",
      "execution_count": 6,
      "metadata": {
        "id": "9HUAAC9h0Tu6"
      },
      "outputs": [
        {
          "name": "stdout",
          "output_type": "stream",
          "text": [
            "[2, 0, 2, 2, 0, 6, 2]\n"
          ]
        }
      ],
      "source": [
        "def geteven(studentNum):\n",
        "    evenDigits = []\n",
        "    for digit in str(studentNum):\n",
        "        if int(digit) % 2 == 0:\n",
        "            evenDigits.append(int(digit))\n",
        "    return evenDigits\n",
        "\n",
        "studentNum = 2022105362\n",
        "evenNum = geteven(studentNum)\n",
        "print(evenNum)"
      ]
    },
    {
      "cell_type": "markdown",
      "metadata": {
        "id": "51HBYD8V0agR"
      },
      "source": [
        "4. Write a python function named `reverseName()` that will:\n",
        "\n",
        "- Accept a list of your name\n",
        "- Return a list of your name in reverse order\n",
        "\n",
        "-------------------------------------\n",
        "\n",
        "Example:\n",
        "\n",
        "myname = ['E', 'L', 'I', 'Z', 'E', 'R']\n",
        "\n",
        "reverseName(myname)\n",
        "\n",
        "Output should be:\n",
        "\n",
        "['R', 'E', 'Z', 'I', 'L', 'E']"
      ]
    },
    {
      "cell_type": "code",
      "execution_count": 3,
      "metadata": {
        "id": "cwtaNJcc0a1o"
      },
      "outputs": [
        {
          "name": "stdout",
          "output_type": "stream",
          "text": [
            "['n', 'i', 'v', 'r', 'e', 'h', 'C']\n"
          ]
        }
      ],
      "source": [
        "def reverseName(name):\n",
        "    return list(reversed(name))\n",
        "\n",
        "myname = ['C', 'h', 'e', 'r', 'v', 'i', 'n']\n",
        "reversedName = reverseName(myname)\n",
        "print(reversedName)"
      ]
    },
    {
      "cell_type": "markdown",
      "metadata": {
        "id": "z98DkSZj0bKE"
      },
      "source": [
        "5. Write a python function named `countVowel()` that will:\n",
        "\n",
        "- Accept a list of your name\n",
        "- Return the number of vowels of your name in the list\n",
        "\n",
        "-------------------------------------\n",
        "\n",
        "Example:\n",
        "\n",
        "myname = ['E', 'L', 'I', 'Z', 'E', 'R']\n",
        "\n",
        "countVowel(myname)\n",
        "\n",
        "Output should be:\n",
        "\n",
        "3"
      ]
    },
    {
      "cell_type": "code",
      "execution_count": 8,
      "metadata": {
        "id": "djNZGq0P0bft"
      },
      "outputs": [
        {
          "name": "stdout",
          "output_type": "stream",
          "text": [
            "Number of vowels in the name: 2\n"
          ]
        }
      ],
      "source": [
        "def countVowel(nameList):\n",
        "    vowels = ['a', 'e', 'i', 'o', 'u', 'A', 'E', 'I', 'O', 'U']\n",
        "    count = 0\n",
        "    for char in nameList:\n",
        "        if char in vowels:\n",
        "            count += 1\n",
        "    return count\n",
        "\n",
        "myName = ['C', 'h', 'e', 'r', 'v', 'i', 'n']\n",
        "vowels = countVowel(myName)\n",
        "print(\"Number of vowels in the name:\", vowels)"
      ]
    },
    {
      "cell_type": "markdown",
      "metadata": {
        "id": "7YuM6TiO8Tsj"
      },
      "source": [
        "## Farewell note\n",
        "\n",
        "It has been a pleasure to teach you this term even for a short period of time.\n",
        "\n",
        "I know that not all people like computer programming but please give it more time for you to find a place in your heart ❤️\n",
        "\n",
        "From my experience, people tend to learn skills when they need it and not when they want to. It is very hard to learn any skill if you do not have any use for it.\n",
        "\n",
        "The challenge for us educators is to show the next generation that programming is a very important skill and that the world needs people like you.\n",
        "\n",
        "Programming is a very fulfilling profession because you can solve the world's problems through your own creativity and passion.\n",
        "\n",
        "I hope that you can find your own purpose in life through programming and make our world a better place 🌎\n",
        "\n",
        "Your teacher,\n",
        "\n",
        "Elizer Ponio Jr."
      ]
    }
  ],
  "metadata": {
    "colab": {
      "authorship_tag": "ABX9TyNaRl6a6rrbvIq4J82oq1Q4",
      "include_colab_link": true,
      "provenance": []
    },
    "kernelspec": {
      "display_name": "Python 3",
      "name": "python3"
    },
    "language_info": {
      "codemirror_mode": {
        "name": "ipython",
        "version": 3
      },
      "file_extension": ".py",
      "mimetype": "text/x-python",
      "name": "python",
      "nbconvert_exporter": "python",
      "pygments_lexer": "ipython3",
      "version": "3.11.4"
    }
  },
  "nbformat": 4,
  "nbformat_minor": 0
}
